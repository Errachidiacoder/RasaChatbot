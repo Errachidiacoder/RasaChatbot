{
  "nbformat": 4,
  "nbformat_minor": 0,
  "metadata": {
    "colab": {
      "provenance": [],
      "authorship_tag": "ABX9TyPUApA0vbhy/fm2e3YePJ9M",
      "include_colab_link": true
    },
    "kernelspec": {
      "name": "python3",
      "display_name": "Python 3"
    },
    "language_info": {
      "name": "python"
    }
  },
  "cells": [
    {
      "cell_type": "markdown",
      "metadata": {
        "id": "view-in-github",
        "colab_type": "text"
      },
      "source": [
        "<a href=\"https://colab.research.google.com/github/Errachidiacoder/NLP/blob/main/TP2_NLP.ipynb\" target=\"_parent\"><img src=\"https://colab.research.google.com/assets/colab-badge.svg\" alt=\"Open In Colab\"/></a>"
      ]
    },
    {
      "cell_type": "code",
      "execution_count": 7,
      "metadata": {
        "id": "QBK_s1aRfiwU"
      },
      "outputs": [],
      "source": [
        "from gensim.models import Word2Vec"
      ]
    },
    {
      "cell_type": "code",
      "source": [
        "texte=\"\"\"**Morocco and Marrakech: A Tapestry of Tradition and Modernity** Morocco, located at the crossroads of Europe and Africa, is a country drenched in history, mystery, and cultural richness. A testament to the ancient civilizations that once flourished here, this North African kingdom boasts a unique blend of Arab, Berber, and European influences. At the heart of Morocco's rich tapestry lies Marrakech, one of its four imperial cities and a vibrant epicenter of tradition and modernity. **Geographical Significance** Morocco is bordered by the Atlantic Ocean to the west, the Mediterranean Sea to the north, Algeria to the east and southeast, and the vast Sahara desert to the south. Its strategic location has historically made it a sought-after territory and a melting pot of cultures, religions, and trade routes. **Marrakech: The Red City** Marrakech, often referred to as \"The Red City\" due to its distinctive red-hued buildings, stands against the backdrop of the snow-capped Atlas Mountains. Established in the 11th century, it has remained a crucial political, economic, and cultural center of Morocco. **Journey through the Medina** Marrakech's old town, the Medina, is a UNESCO World Heritage site and a labyrinthine maze of narrow alleys, bustling souks, and historical landmarks. The Djemaa el-Fna Square lies at the heart of the Medina and comes alive every evening with storytellers, musicians, snake charmers, and food stalls offering tantalizing Moroccan delicacies. **Palaces and Gardens** The city is also home to grand palaces like the Bahia Palace, showcasing intricate Islamic architecture, and the Saadian Tombs, remnants of the Saadian dynasty. The Majorelle Garden, restored by the fashion designer Yves Saint Laurent, is a tranquil oasis of cacti, palm trees, and cobalt blue accents. **Modern Marrakech** While tradition and history permeate Marrakech, the city is not averse to the modern world. Gueliz, the new town, is brimming with contemporary art galleries, stylish cafes, and chic boutiques, offering a stark contrast to the ancient Medina. **Moroccan Cuisine** No journey through Morocco and Marrakech would be complete without indulging in the local cuisine. Tagines, couscous, and pastilla are just a few of the many dishes that combine a plethora of flavors and spices like saffron, cumin, and mint. Paired with Moroccan mint tea, the culinary experience is truly unparalleled. **In Conclusion** Morocco, with Marrakech at its heart, offers travelers an unparalleled journey through time. The convergence of history, culture, architecture, and gastronomy makes it an enthralling destination for those seeking both adventure and reflection. As the Moroccan proverb goes, \"He who does not travel does not know the value of men.\" In the case of Morocco and Marrakech, it's not just the value of men, but also the value of time, tradition, and tales that have spanned centuries.\"\"\""
      ],
      "metadata": {
        "id": "W1ZQpjdolOrv"
      },
      "execution_count": 8,
      "outputs": []
    },
    {
      "cell_type": "code",
      "source": [
        "phrases = [phrase.lower().strip().split() for phrase in texte.split('.')]\n",
        "\n",
        "model = Word2Vec(phrases, vector_size=100, window=5, min_count=1, workers=4)\n",
        "model.save(\"word2vec.model\")\n"
      ],
      "metadata": {
        "id": "EDY69KZmovow"
      },
      "execution_count": 22,
      "outputs": []
    },
    {
      "cell_type": "code",
      "source": [
        "vect = model.wv['morocco']\n",
        "print(\"vecteur de mot 'morocco':\",vect)\n",
        "similair = model.wv.similarity('morocco', 'marrakech')\n",
        "print(\"similarié entre les deux mots morocco et marrakech\",similair)\n",
        "similair\n",
        "\n",
        "simil_context = model.wv.most_similar('marrakech', topn=10)\n",
        "print(\"mots contextuels pour 'Marrakech':\",simil_context)"
      ],
      "metadata": {
        "colab": {
          "base_uri": "https://localhost:8080/"
        },
        "id": "xbMlo94pp746",
        "outputId": "535a252d-4d5c-4d3b-df58-561f6f2e572f"
      },
      "execution_count": 23,
      "outputs": [
        {
          "output_type": "stream",
          "name": "stdout",
          "text": [
            "vecteur de mot 'morocco': [ 0.00801123 -0.00430934 -0.00107792  0.00095953 -0.00015062  0.00093969\n",
            "  0.0061891   0.0002755  -0.0033507  -0.00156211  0.00586482  0.00136089\n",
            " -0.00084146  0.00936786 -0.00493246 -0.00094394  0.00921236  0.00664876\n",
            "  0.00142725 -0.00910533  0.00107013 -0.00226124  0.00951417  0.00116907\n",
            "  0.00148477  0.00250957 -0.00184281 -0.00502384  0.0001764  -0.00195327\n",
            "  0.00671522  0.00890741 -0.00061019  0.00292951 -0.00624058  0.0018269\n",
            " -0.00688296 -0.0088559  -0.00597119 -0.00915289  0.0072168  -0.00585037\n",
            "  0.00822168 -0.00723932  0.00353661  0.00961786 -0.00769251 -0.01003816\n",
            " -0.00423407 -0.00264625 -0.0001444  -0.00892178 -0.00853748  0.00272867\n",
            " -0.00833992 -0.00900389 -0.00222135 -0.00855369 -0.00706349 -0.00832374\n",
            " -0.00023509 -0.00453514  0.0067213   0.00143642 -0.00352517  0.006165\n",
            " -0.00581619 -0.00442818 -0.00750786 -0.00412637 -0.00184597  0.00647019\n",
            " -0.00267314  0.0049858   0.00702362 -0.00733004  0.00456553  0.00617573\n",
            " -0.00317208  0.00667804  0.00602492 -0.00635899 -0.00696162  0.00264241\n",
            " -0.00170435 -0.00617573  0.00953243 -0.00496811 -0.0064256  -0.00028131\n",
            " -0.00251296  0.00055753 -0.00348347 -0.00042129 -0.00047826  0.00098631\n",
            "  0.00837598 -0.00585407 -0.00166363  0.00549602]\n",
            "similarié entre les deux mots morocco et marrakech -0.063578054\n",
            "mots contextuels pour 'Marrakech': [('pastilla', 0.2279740571975708), ('remnants', 0.2257562279701233), ('palm', 0.22527620196342468), ('oasis', 0.20553867518901825), ('destination', 0.20441880822181702), ('for', 0.1888180524110794), ('paired', 0.18652521073818207), ('tombs,', 0.18295152485370636), ('testament', 0.17064571380615234), ('couscous,', 0.16455166041851044)]\n"
          ]
        }
      ]
    },
    {
      "cell_type": "code",
      "source": [],
      "metadata": {
        "id": "gb5vUtzxqYut"
      },
      "execution_count": null,
      "outputs": []
    }
  ]
}